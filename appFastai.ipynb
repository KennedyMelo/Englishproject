{
  "nbformat": 4,
  "nbformat_minor": 0,
  "metadata": {
    "colab": {
      "name": "appFastai.ipynb",
      "provenance": [],
      "collapsed_sections": []
    },
    "kernelspec": {
      "name": "python3",
      "display_name": "Python 3"
    },
    "language_info": {
      "name": "python"
    },
    "accelerator": "GPU",
    "widgets": {
      "application/vnd.jupyter.widget-state+json": {
        "65ab4f0892f943979a41fc07fafc6701": {
          "model_module": "@jupyter-widgets/controls",
          "model_name": "VBoxModel",
          "model_module_version": "1.5.0",
          "state": {
            "_dom_classes": [],
            "_model_module": "@jupyter-widgets/controls",
            "_model_module_version": "1.5.0",
            "_model_name": "VBoxModel",
            "_view_count": null,
            "_view_module": "@jupyter-widgets/controls",
            "_view_module_version": "1.5.0",
            "_view_name": "VBoxView",
            "box_style": "",
            "children": [
              "IPY_MODEL_c3b6c1c800454becad13dfde9ebe5e27",
              "IPY_MODEL_d508b4d5639a4f1b8f43140c606f075c",
              "IPY_MODEL_933a0c2116aa4c738796aad0ef10be84",
              "IPY_MODEL_007a77d291054f7bbfeb719ce3bc6025",
              "IPY_MODEL_7aedb2177b9e42dd98f606756445ad5f"
            ],
            "layout": "IPY_MODEL_8ce9284a996640adbd30822730bbbb2c"
          }
        },
        "c3b6c1c800454becad13dfde9ebe5e27": {
          "model_module": "@jupyter-widgets/controls",
          "model_name": "LabelModel",
          "model_module_version": "1.5.0",
          "state": {
            "_dom_classes": [],
            "_model_module": "@jupyter-widgets/controls",
            "_model_module_version": "1.5.0",
            "_model_name": "LabelModel",
            "_view_count": null,
            "_view_module": "@jupyter-widgets/controls",
            "_view_module_version": "1.5.0",
            "_view_name": "LabelView",
            "description": "",
            "description_tooltip": null,
            "layout": "IPY_MODEL_9b3aa4cab4ca4e62b5ec6d97f3138040",
            "placeholder": "​",
            "style": "IPY_MODEL_baae538dafd24eb4bd1657432a8667c1",
            "value": "Select your animal!"
          }
        },
        "d508b4d5639a4f1b8f43140c606f075c": {
          "model_module": "@jupyter-widgets/controls",
          "model_name": "FileUploadModel",
          "model_module_version": "1.5.0",
          "state": {
            "_counter": 1,
            "_dom_classes": [],
            "_model_module": "@jupyter-widgets/controls",
            "_model_module_version": "1.5.0",
            "_model_name": "FileUploadModel",
            "_view_count": null,
            "_view_module": "@jupyter-widgets/controls",
            "_view_module_version": "1.5.0",
            "_view_name": "FileUploadView",
            "accept": "",
            "button_style": "",
            "data": [
              null
            ],
            "description": "Upload",
            "description_tooltip": null,
            "disabled": false,
            "error": "",
            "icon": "upload",
            "layout": "IPY_MODEL_e53a5526670e45a88043a6ea17d80aac",
            "metadata": [
              {
                "name": "26-High-Lifelike-Call-Duck-Plush-Toy-Realistic-Cute-White-Ducks-Stuffed-Animal-Toys-Gifts-For.jpg_Q90.jpg_.webp",
                "type": "image/webp",
                "size": 29382,
                "lastModified": 1652651309627
              }
            ],
            "multiple": false,
            "style": "IPY_MODEL_4b4f5c48b19c4fd1840da04825014165"
          }
        },
        "933a0c2116aa4c738796aad0ef10be84": {
          "model_module": "@jupyter-widgets/controls",
          "model_name": "ButtonModel",
          "model_module_version": "1.5.0",
          "state": {
            "_dom_classes": [],
            "_model_module": "@jupyter-widgets/controls",
            "_model_module_version": "1.5.0",
            "_model_name": "ButtonModel",
            "_view_count": null,
            "_view_module": "@jupyter-widgets/controls",
            "_view_module_version": "1.5.0",
            "_view_name": "ButtonView",
            "button_style": "",
            "description": "Classify",
            "disabled": false,
            "icon": "",
            "layout": "IPY_MODEL_94d95665719847a2a937886b99984def",
            "style": "IPY_MODEL_1b7c512b0b464382a37436a80638cfd2",
            "tooltip": ""
          }
        },
        "007a77d291054f7bbfeb719ce3bc6025": {
          "model_module": "@jupyter-widgets/output",
          "model_name": "OutputModel",
          "model_module_version": "1.0.0",
          "state": {
            "_dom_classes": [],
            "_model_module": "@jupyter-widgets/output",
            "_model_module_version": "1.0.0",
            "_model_name": "OutputModel",
            "_view_count": null,
            "_view_module": "@jupyter-widgets/output",
            "_view_module_version": "1.0.0",
            "_view_name": "OutputView",
            "layout": "IPY_MODEL_95d6f2431ba542b8b1603eb964e430b7",
            "msg_id": "",
            "outputs": [
              {
                "output_type": "display_data",
                "data": {
                  "text/plain": "<PIL.Image.Image image mode=RGB size=128x128 at 0x7FEB7CDCCFD0>",
                  "image/png": "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\n"
                },
                "metadata": {}
              }
            ]
          }
        },
        "7aedb2177b9e42dd98f606756445ad5f": {
          "model_module": "@jupyter-widgets/controls",
          "model_name": "LabelModel",
          "model_module_version": "1.5.0",
          "state": {
            "_dom_classes": [],
            "_model_module": "@jupyter-widgets/controls",
            "_model_module_version": "1.5.0",
            "_model_name": "LabelModel",
            "_view_count": null,
            "_view_module": "@jupyter-widgets/controls",
            "_view_module_version": "1.5.0",
            "_view_name": "LabelView",
            "description": "",
            "description_tooltip": null,
            "layout": "IPY_MODEL_75928aafeaab4232a44125b5d1b2119a",
            "placeholder": "​",
            "style": "IPY_MODEL_1ef431b1e6e347108156ab3abd581820",
            "value": "Prediction: duck; Probability: 1.0000"
          }
        },
        "8ce9284a996640adbd30822730bbbb2c": {
          "model_module": "@jupyter-widgets/base",
          "model_name": "LayoutModel",
          "model_module_version": "1.2.0",
          "state": {
            "_model_module": "@jupyter-widgets/base",
            "_model_module_version": "1.2.0",
            "_model_name": "LayoutModel",
            "_view_count": null,
            "_view_module": "@jupyter-widgets/base",
            "_view_module_version": "1.2.0",
            "_view_name": "LayoutView",
            "align_content": null,
            "align_items": null,
            "align_self": null,
            "border": null,
            "bottom": null,
            "display": null,
            "flex": null,
            "flex_flow": null,
            "grid_area": null,
            "grid_auto_columns": null,
            "grid_auto_flow": null,
            "grid_auto_rows": null,
            "grid_column": null,
            "grid_gap": null,
            "grid_row": null,
            "grid_template_areas": null,
            "grid_template_columns": null,
            "grid_template_rows": null,
            "height": null,
            "justify_content": null,
            "justify_items": null,
            "left": null,
            "margin": null,
            "max_height": null,
            "max_width": null,
            "min_height": null,
            "min_width": null,
            "object_fit": null,
            "object_position": null,
            "order": null,
            "overflow": null,
            "overflow_x": null,
            "overflow_y": null,
            "padding": null,
            "right": null,
            "top": null,
            "visibility": null,
            "width": null
          }
        },
        "9b3aa4cab4ca4e62b5ec6d97f3138040": {
          "model_module": "@jupyter-widgets/base",
          "model_name": "LayoutModel",
          "model_module_version": "1.2.0",
          "state": {
            "_model_module": "@jupyter-widgets/base",
            "_model_module_version": "1.2.0",
            "_model_name": "LayoutModel",
            "_view_count": null,
            "_view_module": "@jupyter-widgets/base",
            "_view_module_version": "1.2.0",
            "_view_name": "LayoutView",
            "align_content": null,
            "align_items": null,
            "align_self": null,
            "border": null,
            "bottom": null,
            "display": null,
            "flex": null,
            "flex_flow": null,
            "grid_area": null,
            "grid_auto_columns": null,
            "grid_auto_flow": null,
            "grid_auto_rows": null,
            "grid_column": null,
            "grid_gap": null,
            "grid_row": null,
            "grid_template_areas": null,
            "grid_template_columns": null,
            "grid_template_rows": null,
            "height": null,
            "justify_content": null,
            "justify_items": null,
            "left": null,
            "margin": null,
            "max_height": null,
            "max_width": null,
            "min_height": null,
            "min_width": null,
            "object_fit": null,
            "object_position": null,
            "order": null,
            "overflow": null,
            "overflow_x": null,
            "overflow_y": null,
            "padding": null,
            "right": null,
            "top": null,
            "visibility": null,
            "width": null
          }
        },
        "baae538dafd24eb4bd1657432a8667c1": {
          "model_module": "@jupyter-widgets/controls",
          "model_name": "DescriptionStyleModel",
          "model_module_version": "1.5.0",
          "state": {
            "_model_module": "@jupyter-widgets/controls",
            "_model_module_version": "1.5.0",
            "_model_name": "DescriptionStyleModel",
            "_view_count": null,
            "_view_module": "@jupyter-widgets/base",
            "_view_module_version": "1.2.0",
            "_view_name": "StyleView",
            "description_width": ""
          }
        },
        "e53a5526670e45a88043a6ea17d80aac": {
          "model_module": "@jupyter-widgets/base",
          "model_name": "LayoutModel",
          "model_module_version": "1.2.0",
          "state": {
            "_model_module": "@jupyter-widgets/base",
            "_model_module_version": "1.2.0",
            "_model_name": "LayoutModel",
            "_view_count": null,
            "_view_module": "@jupyter-widgets/base",
            "_view_module_version": "1.2.0",
            "_view_name": "LayoutView",
            "align_content": null,
            "align_items": null,
            "align_self": null,
            "border": null,
            "bottom": null,
            "display": null,
            "flex": null,
            "flex_flow": null,
            "grid_area": null,
            "grid_auto_columns": null,
            "grid_auto_flow": null,
            "grid_auto_rows": null,
            "grid_column": null,
            "grid_gap": null,
            "grid_row": null,
            "grid_template_areas": null,
            "grid_template_columns": null,
            "grid_template_rows": null,
            "height": null,
            "justify_content": null,
            "justify_items": null,
            "left": null,
            "margin": null,
            "max_height": null,
            "max_width": null,
            "min_height": null,
            "min_width": null,
            "object_fit": null,
            "object_position": null,
            "order": null,
            "overflow": null,
            "overflow_x": null,
            "overflow_y": null,
            "padding": null,
            "right": null,
            "top": null,
            "visibility": null,
            "width": null
          }
        },
        "4b4f5c48b19c4fd1840da04825014165": {
          "model_module": "@jupyter-widgets/controls",
          "model_name": "ButtonStyleModel",
          "model_module_version": "1.5.0",
          "state": {
            "_model_module": "@jupyter-widgets/controls",
            "_model_module_version": "1.5.0",
            "_model_name": "ButtonStyleModel",
            "_view_count": null,
            "_view_module": "@jupyter-widgets/base",
            "_view_module_version": "1.2.0",
            "_view_name": "StyleView",
            "button_color": null,
            "font_weight": ""
          }
        },
        "94d95665719847a2a937886b99984def": {
          "model_module": "@jupyter-widgets/base",
          "model_name": "LayoutModel",
          "model_module_version": "1.2.0",
          "state": {
            "_model_module": "@jupyter-widgets/base",
            "_model_module_version": "1.2.0",
            "_model_name": "LayoutModel",
            "_view_count": null,
            "_view_module": "@jupyter-widgets/base",
            "_view_module_version": "1.2.0",
            "_view_name": "LayoutView",
            "align_content": null,
            "align_items": null,
            "align_self": null,
            "border": null,
            "bottom": null,
            "display": null,
            "flex": null,
            "flex_flow": null,
            "grid_area": null,
            "grid_auto_columns": null,
            "grid_auto_flow": null,
            "grid_auto_rows": null,
            "grid_column": null,
            "grid_gap": null,
            "grid_row": null,
            "grid_template_areas": null,
            "grid_template_columns": null,
            "grid_template_rows": null,
            "height": null,
            "justify_content": null,
            "justify_items": null,
            "left": null,
            "margin": null,
            "max_height": null,
            "max_width": null,
            "min_height": null,
            "min_width": null,
            "object_fit": null,
            "object_position": null,
            "order": null,
            "overflow": null,
            "overflow_x": null,
            "overflow_y": null,
            "padding": null,
            "right": null,
            "top": null,
            "visibility": null,
            "width": null
          }
        },
        "1b7c512b0b464382a37436a80638cfd2": {
          "model_module": "@jupyter-widgets/controls",
          "model_name": "ButtonStyleModel",
          "model_module_version": "1.5.0",
          "state": {
            "_model_module": "@jupyter-widgets/controls",
            "_model_module_version": "1.5.0",
            "_model_name": "ButtonStyleModel",
            "_view_count": null,
            "_view_module": "@jupyter-widgets/base",
            "_view_module_version": "1.2.0",
            "_view_name": "StyleView",
            "button_color": null,
            "font_weight": ""
          }
        },
        "75928aafeaab4232a44125b5d1b2119a": {
          "model_module": "@jupyter-widgets/base",
          "model_name": "LayoutModel",
          "model_module_version": "1.2.0",
          "state": {
            "_model_module": "@jupyter-widgets/base",
            "_model_module_version": "1.2.0",
            "_model_name": "LayoutModel",
            "_view_count": null,
            "_view_module": "@jupyter-widgets/base",
            "_view_module_version": "1.2.0",
            "_view_name": "LayoutView",
            "align_content": null,
            "align_items": null,
            "align_self": null,
            "border": null,
            "bottom": null,
            "display": null,
            "flex": null,
            "flex_flow": null,
            "grid_area": null,
            "grid_auto_columns": null,
            "grid_auto_flow": null,
            "grid_auto_rows": null,
            "grid_column": null,
            "grid_gap": null,
            "grid_row": null,
            "grid_template_areas": null,
            "grid_template_columns": null,
            "grid_template_rows": null,
            "height": null,
            "justify_content": null,
            "justify_items": null,
            "left": null,
            "margin": null,
            "max_height": null,
            "max_width": null,
            "min_height": null,
            "min_width": null,
            "object_fit": null,
            "object_position": null,
            "order": null,
            "overflow": null,
            "overflow_x": null,
            "overflow_y": null,
            "padding": null,
            "right": null,
            "top": null,
            "visibility": null,
            "width": null
          }
        },
        "1ef431b1e6e347108156ab3abd581820": {
          "model_module": "@jupyter-widgets/controls",
          "model_name": "DescriptionStyleModel",
          "model_module_version": "1.5.0",
          "state": {
            "_model_module": "@jupyter-widgets/controls",
            "_model_module_version": "1.5.0",
            "_model_name": "DescriptionStyleModel",
            "_view_count": null,
            "_view_module": "@jupyter-widgets/base",
            "_view_module_version": "1.2.0",
            "_view_name": "StyleView",
            "description_width": ""
          }
        },
        "95d6f2431ba542b8b1603eb964e430b7": {
          "model_module": "@jupyter-widgets/base",
          "model_name": "LayoutModel",
          "model_module_version": "1.2.0",
          "state": {
            "_model_module": "@jupyter-widgets/base",
            "_model_module_version": "1.2.0",
            "_model_name": "LayoutModel",
            "_view_count": null,
            "_view_module": "@jupyter-widgets/base",
            "_view_module_version": "1.2.0",
            "_view_name": "LayoutView",
            "align_content": null,
            "align_items": null,
            "align_self": null,
            "border": null,
            "bottom": null,
            "display": null,
            "flex": null,
            "flex_flow": null,
            "grid_area": null,
            "grid_auto_columns": null,
            "grid_auto_flow": null,
            "grid_auto_rows": null,
            "grid_column": null,
            "grid_gap": null,
            "grid_row": null,
            "grid_template_areas": null,
            "grid_template_columns": null,
            "grid_template_rows": null,
            "height": null,
            "justify_content": null,
            "justify_items": null,
            "left": null,
            "margin": null,
            "max_height": null,
            "max_width": null,
            "min_height": null,
            "min_width": null,
            "object_fit": null,
            "object_position": null,
            "order": null,
            "overflow": null,
            "overflow_x": null,
            "overflow_y": null,
            "padding": null,
            "right": null,
            "top": null,
            "visibility": null,
            "width": null
          }
        }
      }
    }
  },
  "cells": [
    {
      "cell_type": "code",
      "execution_count": 1,
      "metadata": {
        "colab": {
          "base_uri": "https://localhost:8080/"
        },
        "id": "d_2GVGbGnkeY",
        "outputId": "487509e1-61ba-45d7-c3d3-99af7cc43f7e"
      },
      "outputs": [
        {
          "output_type": "stream",
          "name": "stdout",
          "text": [
            "\u001b[K     |████████████████████████████████| 719 kB 5.2 MB/s \n",
            "\u001b[K     |████████████████████████████████| 197 kB 68.7 MB/s \n",
            "\u001b[K     |████████████████████████████████| 1.2 MB 65.9 MB/s \n",
            "\u001b[K     |████████████████████████████████| 60 kB 5.5 MB/s \n",
            "\u001b[?25hMounted at /content/gdrive\n"
          ]
        }
      ],
      "source": [
        "#hide\n",
        "!pip install -Uqq fastbook\n",
        "import fastbook\n",
        "fastbook.setup_book()"
      ]
    },
    {
      "cell_type": "code",
      "source": [
        "#hide\n",
        "from fastbook import *\n",
        "from fastai.vision.widgets import *"
      ],
      "metadata": {
        "id": "PkqUOuSUoEuw"
      },
      "execution_count": 2,
      "outputs": []
    },
    {
      "cell_type": "markdown",
      "source": [
        "### Creating a Notebook App from the Model"
      ],
      "metadata": {
        "id": "VCMQI2WdoQT_"
      }
    },
    {
      "cell_type": "code",
      "source": [
        "path = Path()\n",
        "\n",
        "btn_run = widgets.Button(description='Classify')\n",
        "lbl_pred = widgets.Label()\n",
        "btn_upload = widgets.FileUpload()\n",
        "out_pl = widgets.Output()\n",
        "learn_inf = load_learner(path/'export.pkl')\n"
      ],
      "metadata": {
        "id": "HoTdrlxToN_X"
      },
      "execution_count": 4,
      "outputs": []
    },
    {
      "cell_type": "code",
      "source": [
        "def on_click_classify(change):\n",
        "    img = PILImage.create(btn_upload.data[-1])\n",
        "    out_pl.clear_output()\n",
        "    with out_pl: display(img.to_thumb(128,128))\n",
        "    pred,pred_idx,probs = learn_inf.predict(img)\n",
        "    lbl_pred.value = f'Prediction: {pred}; Probability: {probs[pred_idx]:.04f}'\n",
        "\n",
        "btn_run.on_click(on_click_classify)"
      ],
      "metadata": {
        "id": "-pc6_FIgoqIb"
      },
      "execution_count": 5,
      "outputs": []
    },
    {
      "cell_type": "code",
      "source": [
        "VBox([widgets.Label('Select your animal!'), \n",
        "      btn_upload, btn_run, out_pl, lbl_pred])"
      ],
      "metadata": {
        "colab": {
          "base_uri": "https://localhost:8080/",
          "height": 273,
          "referenced_widgets": [
            "65ab4f0892f943979a41fc07fafc6701",
            "c3b6c1c800454becad13dfde9ebe5e27",
            "d508b4d5639a4f1b8f43140c606f075c",
            "933a0c2116aa4c738796aad0ef10be84",
            "007a77d291054f7bbfeb719ce3bc6025",
            "7aedb2177b9e42dd98f606756445ad5f",
            "8ce9284a996640adbd30822730bbbb2c",
            "9b3aa4cab4ca4e62b5ec6d97f3138040",
            "baae538dafd24eb4bd1657432a8667c1",
            "e53a5526670e45a88043a6ea17d80aac",
            "4b4f5c48b19c4fd1840da04825014165",
            "94d95665719847a2a937886b99984def",
            "1b7c512b0b464382a37436a80638cfd2",
            "75928aafeaab4232a44125b5d1b2119a",
            "1ef431b1e6e347108156ab3abd581820",
            "95d6f2431ba542b8b1603eb964e430b7"
          ]
        },
        "id": "TraW1iezotUN",
        "outputId": "85650063-e921-44b8-e821-ce4300699d1c"
      },
      "execution_count": 6,
      "outputs": [
        {
          "output_type": "display_data",
          "data": {
            "text/plain": [
              "VBox(children=(Label(value='Select your animal!'), FileUpload(value={}, description='Upload'), Button(descript…"
            ],
            "application/vnd.jupyter.widget-view+json": {
              "version_major": 2,
              "version_minor": 0,
              "model_id": "65ab4f0892f943979a41fc07fafc6701"
            }
          },
          "metadata": {}
        },
        {
          "output_type": "display_data",
          "data": {
            "text/plain": [
              "<IPython.core.display.HTML object>"
            ],
            "text/html": [
              "\n",
              "<style>\n",
              "    /* Turns off some styling */\n",
              "    progress {\n",
              "        /* gets rid of default border in Firefox and Opera. */\n",
              "        border: none;\n",
              "        /* Needs to be in here for Safari polyfill so background images work as expected. */\n",
              "        background-size: auto;\n",
              "    }\n",
              "    .progress-bar-interrupted, .progress-bar-interrupted::-webkit-progress-bar {\n",
              "        background: #F44336;\n",
              "    }\n",
              "</style>\n"
            ]
          },
          "metadata": {}
        },
        {
          "output_type": "display_data",
          "data": {
            "text/plain": [
              "<IPython.core.display.HTML object>"
            ],
            "text/html": [
              ""
            ]
          },
          "metadata": {}
        }
      ]
    }
  ]
}